{
 "cells": [
  {
   "cell_type": "code",
   "execution_count": 2,
   "id": "530953ec",
   "metadata": {},
   "outputs": [],
   "source": [
    "import cv2\n",
    "import numpy as np\n",
    "import os\n",
    "import matplotlib.pyplot as plt\n"
   ]
  },
  {
   "cell_type": "code",
   "execution_count": 4,
   "id": "b77deb62",
   "metadata": {},
   "outputs": [],
   "source": [
    "train_dir = \"/Users/akshat/GAN\"\n",
    "for img in os.listdir(train_dir + \"/gan_image_dataset\"):\n",
    "    try:\n",
    "        img_array = cv2.imread(train_dir + \"/gan_image_dataset/\" + img)\n",
    "        \n",
    "        img_array = cv2.resize(img_array, (128, 128))\n",
    "        lr_img_array = cv2.resize(img_array, (32, 32))\n",
    "        \n",
    "        cv2.imwrite(train_dir + \"/hr_images/\" + img, img_array)\n",
    "        cv2.imwrite(train_dir + \"/lr_images/\" + img, lr_img_array)\n",
    "    except:\n",
    "        pass\n"
   ]
  },
  {
   "cell_type": "code",
   "execution_count": null,
   "id": "b0c79b94",
   "metadata": {},
   "outputs": [],
   "source": []
  }
 ],
 "metadata": {
  "kernelspec": {
   "display_name": "Python 3 (ipykernel)",
   "language": "python",
   "name": "python3"
  },
  "language_info": {
   "codemirror_mode": {
    "name": "ipython",
    "version": 3
   },
   "file_extension": ".py",
   "mimetype": "text/x-python",
   "name": "python",
   "nbconvert_exporter": "python",
   "pygments_lexer": "ipython3",
   "version": "3.10.11"
  }
 },
 "nbformat": 4,
 "nbformat_minor": 5
}
